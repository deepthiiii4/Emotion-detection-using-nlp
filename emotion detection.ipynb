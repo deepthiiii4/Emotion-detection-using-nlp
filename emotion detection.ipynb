{
 "cells": [
  {
   "cell_type": "markdown",
   "metadata": {
    "id": "SfwEUAWA3HAb"
   },
   "source": [
    "## Import Necessary Libraries"
   ]
  },
  {
   "cell_type": "code",
   "execution_count": 1,
   "metadata": {
    "id": "G7rHKL0KNteY"
   },
   "outputs": [],
   "source": [
    "import numpy as np\n",
    "import keras\n",
    "from  keras.preprocessing.text import Tokenizer\n",
    "from keras.preprocessing.sequence import pad_sequences\n",
    "import os\n",
    "import pandas as pd\n",
    "from keras.utils import to_categorical\n",
    "import matplotlib.pyplot as plt\n",
    "from sklearn.metrics import classification_report\n"
   ]
  },
  {
   "cell_type": "markdown",
   "metadata": {
    "id": "r1dtvdVm3Wqq"
   },
   "source": [
    "# Create a Dataframe for reading and analysing the text files easily"
   ]
  },
  {
   "cell_type": "code",
   "execution_count": 2,
   "metadata": {
    "id": "uVI0V45VPqkH"
   },
   "outputs": [],
   "source": [
    "df_train = pd.read_csv('train.txt', header =None, sep =';', names = ['Input','Sentiment'], encoding='utf-8')\n",
    "df_test = pd.read_csv('test.txt', header = None, sep =';', names = ['Input','Sentiment'],encoding='utf-8')\n",
    "df_val=pd.read_csv('val.txt',header=None,sep=';',names=['Input','Sentiment'],encoding='utf-8')"
   ]
  },
  {
   "cell_type": "code",
   "execution_count": 3,
   "metadata": {
    "id": "t5UXwqnoOkGV",
    "outputId": "2714606a-f695-45ff-c0d9-1d7234d37a6f"
   },
   "outputs": [
    {
     "data": {
      "text/plain": [
       "Sentiment\n",
       "joy         5362\n",
       "sadness     4666\n",
       "anger       2159\n",
       "fear        1937\n",
       "love        1304\n",
       "surprise     572\n",
       "Name: count, dtype: int64"
      ]
     },
     "execution_count": 3,
     "metadata": {},
     "output_type": "execute_result"
    }
   ],
   "source": [
    "df_train.Sentiment.value_counts()"
   ]
  },
  {
   "cell_type": "markdown",
   "metadata": {
    "id": "weLVgoak3lR0"
   },
   "source": [
    "## Reading the Train and Validation Data"
   ]
  },
  {
   "cell_type": "code",
   "execution_count": 4,
   "metadata": {
    "id": "8jfpnq0qPEUF"
   },
   "outputs": [],
   "source": [
    "X=df_train['Input']\n"
   ]
  },
  {
   "cell_type": "code",
   "execution_count": 5,
   "metadata": {
    "id": "YsdBhABuRkc2"
   },
   "outputs": [],
   "source": [
    "lst=[]\n",
    "for i in X:\n",
    "  lst.append(len(i))\n"
   ]
  },
  {
   "cell_type": "code",
   "execution_count": 6,
   "metadata": {
    "id": "Lf_wMk5wR7Wd",
    "outputId": "0f7f1b70-bd55-428f-f798-89f8c2f998c0"
   },
   "outputs": [
    {
     "data": {
      "text/html": [
       "<div>\n",
       "<style scoped>\n",
       "    .dataframe tbody tr th:only-of-type {\n",
       "        vertical-align: middle;\n",
       "    }\n",
       "\n",
       "    .dataframe tbody tr th {\n",
       "        vertical-align: top;\n",
       "    }\n",
       "\n",
       "    .dataframe thead th {\n",
       "        text-align: right;\n",
       "    }\n",
       "</style>\n",
       "<table border=\"1\" class=\"dataframe\">\n",
       "  <thead>\n",
       "    <tr style=\"text-align: right;\">\n",
       "      <th></th>\n",
       "      <th>0</th>\n",
       "    </tr>\n",
       "  </thead>\n",
       "  <tbody>\n",
       "    <tr>\n",
       "      <th>count</th>\n",
       "      <td>16000.000000</td>\n",
       "    </tr>\n",
       "    <tr>\n",
       "      <th>mean</th>\n",
       "      <td>96.845812</td>\n",
       "    </tr>\n",
       "    <tr>\n",
       "      <th>std</th>\n",
       "      <td>55.904953</td>\n",
       "    </tr>\n",
       "    <tr>\n",
       "      <th>min</th>\n",
       "      <td>7.000000</td>\n",
       "    </tr>\n",
       "    <tr>\n",
       "      <th>25%</th>\n",
       "      <td>53.000000</td>\n",
       "    </tr>\n",
       "    <tr>\n",
       "      <th>50%</th>\n",
       "      <td>86.000000</td>\n",
       "    </tr>\n",
       "    <tr>\n",
       "      <th>75%</th>\n",
       "      <td>129.000000</td>\n",
       "    </tr>\n",
       "    <tr>\n",
       "      <th>max</th>\n",
       "      <td>300.000000</td>\n",
       "    </tr>\n",
       "  </tbody>\n",
       "</table>\n",
       "</div>"
      ],
      "text/plain": [
       "                  0\n",
       "count  16000.000000\n",
       "mean      96.845812\n",
       "std       55.904953\n",
       "min        7.000000\n",
       "25%       53.000000\n",
       "50%       86.000000\n",
       "75%      129.000000\n",
       "max      300.000000"
      ]
     },
     "execution_count": 6,
     "metadata": {},
     "output_type": "execute_result"
    }
   ],
   "source": [
    "len1=pd.DataFrame(lst)\n",
    "len1.describe()"
   ]
  },
  {
   "cell_type": "code",
   "execution_count": 7,
   "metadata": {
    "id": "JBAgUQh-1cCn"
   },
   "outputs": [],
   "source": [
    "cts=[]\n",
    "for i in range(7,301):\n",
    "   ct=0\n",
    "   for k in lst:\n",
    "     if k==i:\n",
    "       ct+=1\n",
    "   cts.append(ct)"
   ]
  },
  {
   "cell_type": "markdown",
   "metadata": {
    "id": "dwTyJqGO4JM0"
   },
   "source": [
    "# Trying to fix a length for the embedding layers' input"
   ]
  },
  {
   "cell_type": "code",
   "execution_count": 8,
   "metadata": {
    "id": "UOYkt05D2Pkc",
    "outputId": "fbb734a9-cd62-4f8e-aeb6-cfba165e505e"
   },
   "outputs": [
    {
     "data": {
      "image/png": "[encoded data removed]",
      "text/plain": [
       "<Figure size 640x480 with 1 Axes>"
      ]
     },
     "metadata": {},
     "output_type": "display_data"
    }
   ],
   "source": [
    "plt.bar(range(7,301),cts)\n",
    "plt.show()"
   ]
  },
  {
   "cell_type": "markdown",
   "metadata": {
    "id": "Vkx0Skhw4RTE"
   },
   "source": [
    "# Using The tokenizer Class to convert the sentences into word vectors"
   ]
  },
  {
   "cell_type": "code",
   "execution_count": 9,
   "metadata": {
    "id": "HPqJjmc2Qd1q"
   },
   "outputs": [],
   "source": [
    "tokenizer=Tokenizer(15212,lower=True,oov_token='UNK')\n",
    "tokenizer.fit_on_texts(X)"
   ]
  },
  {
   "cell_type": "code",
   "execution_count": 10,
   "metadata": {
    "id": "QAR53xsMQ9hp",
    "outputId": "85afe77d-62ca-4db5-9030-985c63cccdf1"
   },
   "outputs": [
    {
     "data": {
      "text/plain": [
       "15213"
      ]
     },
     "execution_count": 10,
     "metadata": {},
     "output_type": "execute_result"
    }
   ],
   "source": [
    "len(tokenizer.word_index)"
   ]
  },
  {
   "cell_type": "code",
   "execution_count": 11,
   "metadata": {
    "id": "OPlKIuEJRHaJ"
   },
   "outputs": [],
   "source": [
    "X_train=tokenizer.texts_to_sequences(X)\n",
    "X_train_pad=pad_sequences(X_train,maxlen=80,padding='post')"
   ]
  },
  {
   "cell_type": "code",
   "execution_count": 12,
   "metadata": {
    "id": "klWThk5xSiTj"
   },
   "outputs": [],
   "source": [
    "df_train['Sentiment']=df_train.Sentiment.replace({'joy':0,'anger':1,'love':2,'sadness':3,'fear':4,'surprise':5})"
   ]
  },
  {
   "cell_type": "code",
   "execution_count": 13,
   "metadata": {
    "id": "IcB2LdpDTV1R"
   },
   "outputs": [],
   "source": [
    "Y_train=df_train['Sentiment'].values\n"
   ]
  },
  {
   "cell_type": "markdown",
   "metadata": {
    "id": "1Nxr63i-4eWH"
   },
   "source": [
    "# One hot Encoding the Emotion Values"
   ]
  },
  {
   "cell_type": "code",
   "execution_count": 14,
   "metadata": {
    "id": "Cq4bajBpWKnU"
   },
   "outputs": [],
   "source": [
    "Y_train_f=to_categorical(Y_train)"
   ]
  },
  {
   "cell_type": "code",
   "execution_count": 15,
   "metadata": {
    "id": "jM-qVgjjXHlb",
    "outputId": "598f6ccc-4000-49a8-b46e-34b06d0fdd53"
   },
   "outputs": [
    {
     "data": {
      "text/plain": [
       "array([[0., 0., 0., 1., 0., 0.],\n",
       "       [0., 0., 0., 1., 0., 0.],\n",
       "       [0., 1., 0., 0., 0., 0.],\n",
       "       [0., 0., 1., 0., 0., 0.],\n",
       "       [0., 1., 0., 0., 0., 0.],\n",
       "       [0., 0., 0., 1., 0., 0.]], dtype=float32)"
      ]
     },
     "execution_count": 15,
     "metadata": {},
     "output_type": "execute_result"
    }
   ],
   "source": [
    "Y_train_f[:6]"
   ]
  },
  {
   "cell_type": "code",
   "execution_count": 16,
   "metadata": {
    "id": "PKJwSxEgYhay"
   },
   "outputs": [],
   "source": [
    "X_val=df_val['Input']\n",
    "Y_val=df_val.Sentiment.replace({'joy':0,'anger':1,'love':2,'sadness':3,'fear':4,'surprise':5})"
   ]
  },
  {
   "cell_type": "code",
   "execution_count": 17,
   "metadata": {
    "id": "v-5tPraZYYH6"
   },
   "outputs": [],
   "source": [
    "X_val_f=tokenizer.texts_to_sequences(X_val)\n",
    "X_val_pad=pad_sequences(X_val_f,maxlen=80,padding='post')"
   ]
  },
  {
   "cell_type": "code",
   "execution_count": 18,
   "metadata": {
    "id": "rLIVsrvgZLu_"
   },
   "outputs": [],
   "source": [
    "Y_val_f=to_categorical(Y_val)"
   ]
  },
  {
   "cell_type": "code",
   "execution_count": 19,
   "metadata": {
    "id": "zKw08DYYZLxl",
    "outputId": "914b33da-9bc8-463f-f87d-281ba533a2f8"
   },
   "outputs": [
    {
     "data": {
      "text/plain": [
       "array([[0., 0., 0., 1., 0., 0.],\n",
       "       [0., 0., 0., 1., 0., 0.],\n",
       "       [0., 0., 1., 0., 0., 0.],\n",
       "       [0., 1., 0., 0., 0., 0.],\n",
       "       [1., 0., 0., 0., 0., 0.],\n",
       "       [1., 0., 0., 0., 0., 0.]], dtype=float32)"
      ]
     },
     "execution_count": 19,
     "metadata": {},
     "output_type": "execute_result"
    }
   ],
   "source": [
    "Y_val_f[:6]"
   ]
  },
  {
   "cell_type": "code",
   "execution_count": 20,
   "metadata": {
    "id": "fTW2fLQZU8rx"
   },
   "outputs": [],
   "source": [
    "from keras.models import Sequential\n",
    "from keras.layers import LSTM,Bidirectional,Dense,Embedding,Dropout\n"
   ]
  },
  {
   "cell_type": "markdown",
   "metadata": {
    "id": "zzZgSic_4mb8"
   },
   "source": [
    "# Creating a Model"
   ]
  },
  {
   "cell_type": "code",
   "execution_count": 21,
   "metadata": {
    "id": "F_tdJHIDVLqA",
    "outputId": "7ae62ccd-8288-4e6b-b614-c8080cd51a2a"
   },
   "outputs": [
    {
     "name": "stdout",
     "output_type": "stream",
     "text": [
      "Model: \"sequential\"\n",
      "_________________________________________________________________\n",
      " Layer (type)                Output Shape              Param #   \n",
      "=================================================================\n",
      " embedding (Embedding)       (None, 80, 64)            973568    \n",
      "                                                                 \n",
      " dropout (Dropout)           (None, 80, 64)            0         \n",
      "                                                                 \n",
      " bidirectional (Bidirection  (None, 80, 160)           92800     \n",
      " al)                                                             \n",
      "                                                                 \n",
      " bidirectional_1 (Bidirecti  (None, 320)               410880    \n",
      " onal)                                                           \n",
      "                                                                 \n",
      " dense (Dense)               (None, 6)                 1926      \n",
      "                                                                 \n",
      "=================================================================\n",
      "Total params: 1479174 (5.64 MB)\n",
      "Trainable params: 1479174 (5.64 MB)\n",
      "Non-trainable params: 0 (0.00 Byte)\n",
      "_________________________________________________________________\n",
      "None\n"
     ]
    }
   ],
   "source": [
    "model=Sequential()\n",
    "model.add(Embedding(15212,64,input_length=80))\n",
    "model.add(Dropout(0.6))\n",
    "model.add(Bidirectional(LSTM(80,return_sequences=True)))\n",
    "model.add(Bidirectional(LSTM(160)))\n",
    "model.add(Dense(6,activation='softmax'))\n",
    "print(model.summary())"
   ]
  },
  {
   "cell_type": "markdown",
   "metadata": {
    "id": "lQwbhHiO4rM7"
   },
   "source": [
    "# Compiling and running the model"
   ]
  },
  {
   "cell_type": "code",
   "execution_count": 22,
   "metadata": {
    "id": "_KYfMEyXVxK2"
   },
   "outputs": [],
   "source": [
    "model.compile(optimizer='adam',loss='categorical_crossentropy',metrics=['accuracy'])"
   ]
  },
  {
   "cell_type": "code",
   "execution_count": 23,
   "metadata": {
    "id": "J5UxHV4EV_qA",
    "outputId": "c1760502-94ff-4f81-9ead-59ddddab1149"
   },
   "outputs": [
    {
     "name": "stdout",
     "output_type": "stream",
     "text": [
      "Epoch 1/12\n",
      "500/500 [==============================] - 921s 2s/step - loss: 1.2343 - accuracy: 0.5370 - val_loss: 0.7150 - val_accuracy: 0.7445\n",
      "Epoch 2/12\n",
      "500/500 [==============================] - 887s 2s/step - loss: 0.5254 - accuracy: 0.8180 - val_loss: 0.2947 - val_accuracy: 0.8945\n",
      "Epoch 3/12\n",
      "500/500 [==============================] - 1155s 2s/step - loss: 0.2762 - accuracy: 0.9010 - val_loss: 0.2368 - val_accuracy: 0.9145\n",
      "Epoch 4/12\n",
      "500/500 [==============================] - 930s 2s/step - loss: 0.1922 - accuracy: 0.9296 - val_loss: 0.1925 - val_accuracy: 0.9225\n",
      "Epoch 5/12\n",
      "500/500 [==============================] - 548s 1s/step - loss: 0.1490 - accuracy: 0.9421 - val_loss: 0.1729 - val_accuracy: 0.9265\n",
      "Epoch 6/12\n",
      "500/500 [==============================] - 457s 914ms/step - loss: 0.1232 - accuracy: 0.9524 - val_loss: 0.1567 - val_accuracy: 0.9315\n",
      "Epoch 7/12\n",
      "500/500 [==============================] - 2760s 6s/step - loss: 0.0980 - accuracy: 0.9598 - val_loss: 0.1617 - val_accuracy: 0.9290\n",
      "Epoch 8/12\n",
      "500/500 [==============================] - 24304s 49s/step - loss: 0.0868 - accuracy: 0.9664 - val_loss: 0.1661 - val_accuracy: 0.9335\n",
      "Epoch 9/12\n",
      "500/500 [==============================] - 11629s 23s/step - loss: 0.0759 - accuracy: 0.9688 - val_loss: 0.1536 - val_accuracy: 0.9345\n",
      "Epoch 10/12\n",
      "500/500 [==============================] - 1274s 3s/step - loss: 0.0710 - accuracy: 0.9731 - val_loss: 0.1824 - val_accuracy: 0.9250\n",
      "Epoch 11/12\n",
      "500/500 [==============================] - 446s 892ms/step - loss: 0.0652 - accuracy: 0.9743 - val_loss: 0.1598 - val_accuracy: 0.9385\n",
      "Epoch 12/12\n",
      "500/500 [==============================] - 461s 922ms/step - loss: 0.0584 - accuracy: 0.9777 - val_loss: 0.1755 - val_accuracy: 0.9325\n"
     ]
    }
   ],
   "source": [
    "hist=model.fit(X_train_pad,Y_train_f,epochs=12,validation_data=(X_val_pad,Y_val_f))"
   ]
  },
  {
   "cell_type": "markdown",
   "metadata": {},
   "source": [
    "# Plotting the Loss and Accuracy Curves"
   ]
  },
  {
   "cell_type": "code",
   "execution_count": 39,
   "metadata": {
    "id": "r9ZX9npB95PY",
    "outputId": "9e3a5747-bc0e-4063-8ae5-6d047d6b94b6"
   },
   "outputs": [
    {
     "data": {
      "image/png": "[encoded data removed]",
      "text/plain": [
       "<Figure size 640x480 with 1 Axes>"
      ]
     },
     "metadata": {},
     "output_type": "display_data"
    }
   ],
   "source": [
    "plt.plot(hist.history['accuracy'],c='b',label='train')\n",
    "plt.plot(hist.history['val_accuracy'],c='r',label='validation')\n",
    "plt.legend(loc='lower right')\n",
    "plt.show()"
   ]
  },
  {
   "cell_type": "code",
   "execution_count": 40,
   "metadata": {
    "id": "DPXjVCJe-dLM",
    "outputId": "f520d1fa-d97f-4c03-f4da-1ef837a0f8d1"
   },
   "outputs": [
    {
     "data": {
      "image/png": "[encoded data removed]",
      "text/plain": [
       "<Figure size 640x480 with 1 Axes>"
      ]
     },
     "metadata": {},
     "output_type": "display_data"
    }
   ],
   "source": [
    "plt.plot(hist.history['loss'],c='orange',label='train')\n",
    "plt.plot(hist.history['val_loss'],c='g',label='validation')\n",
    "plt.legend(loc='upper right')\n",
    "plt.show()"
   ]
  },
  {
   "cell_type": "markdown",
   "metadata": {
    "id": "T8wkWWRM4wj5"
   },
   "source": [
    "# Checking for Test Data"
   ]
  },
  {
   "cell_type": "code",
   "execution_count": 41,
   "metadata": {
    "id": "qiqCoFvpWFlI"
   },
   "outputs": [],
   "source": [
    "X_test=df_test['Input']\n",
    "Y_test=df_test.Sentiment.replace({'joy':0,'anger':1,'love':2,'sadness':3,'fear':4,'surprise':5})"
   ]
  },
  {
   "cell_type": "code",
   "execution_count": 42,
   "metadata": {
    "id": "a_puRzZNaI_i"
   },
   "outputs": [],
   "source": [
    "X_test_f=tokenizer.texts_to_sequences(X_test)\n",
    "X_test_pad=pad_sequences(X_test_f,maxlen=80,padding='post')"
   ]
  },
  {
   "cell_type": "code",
   "execution_count": 43,
   "metadata": {
    "id": "ZWeCFXqBaUeF"
   },
   "outputs": [],
   "source": [
    "Y_test_f=to_categorical(Y_test)"
   ]
  },
  {
   "cell_type": "code",
   "execution_count": 44,
   "metadata": {
    "id": "iVhdSBnWcV3q",
    "outputId": "0aaf8ab6-ba10-4816-94be-fdddaeeb2eda"
   },
   "outputs": [
    {
     "data": {
      "text/plain": [
       "(2000, 80)"
      ]
     },
     "execution_count": 44,
     "metadata": {},
     "output_type": "execute_result"
    }
   ],
   "source": [
    "X_test_pad.shape"
   ]
  },
  {
   "cell_type": "code",
   "execution_count": 45,
   "metadata": {
    "id": "K2gXQ80oaaok",
    "outputId": "747bf3f0-3126-4ea2-b730-a832de1447ff"
   },
   "outputs": [
    {
     "data": {
      "text/plain": [
       "array([[0., 0., 0., 1., 0., 0.],\n",
       "       [0., 0., 0., 1., 0., 0.],\n",
       "       [0., 0., 0., 1., 0., 0.],\n",
       "       [1., 0., 0., 0., 0., 0.],\n",
       "       [0., 0., 0., 1., 0., 0.],\n",
       "       [0., 0., 0., 0., 1., 0.],\n",
       "       [0., 1., 0., 0., 0., 0.]], dtype=float32)"
      ]
     },
     "execution_count": 45,
     "metadata": {},
     "output_type": "execute_result"
    }
   ],
   "source": [
    "Y_test_f[:7]"
   ]
  },
  {
   "cell_type": "markdown",
   "metadata": {
    "id": "KI2H_6jh444s"
   },
   "source": [
    "#Accuracy for Test Data"
   ]
  },
  {
   "cell_type": "code",
   "execution_count": 46,
   "metadata": {
    "id": "PWY-3GJSacff",
    "outputId": "b28b942e-d800-4469-cc29-fbdbfedfb1e9"
   },
   "outputs": [
    {
     "name": "stdout",
     "output_type": "stream",
     "text": [
      "63/63 [==============================] - 7s 114ms/step - loss: 0.1895 - accuracy: 0.9315\n"
     ]
    },
    {
     "data": {
      "text/plain": [
       "[0.18947312235832214, 0.9315000176429749]"
      ]
     },
     "execution_count": 46,
     "metadata": {},
     "output_type": "execute_result"
    }
   ],
   "source": [
    "model.evaluate(X_test_pad,Y_test_f)"
   ]
  },
  {
   "cell_type": "markdown",
   "metadata": {
    "id": "eDUBbS9dCnqc"
   },
   "source": [
    "# Plotting the Confusion matrix "
   ]
  },
  {
   "cell_type": "code",
   "execution_count": 52,
   "metadata": {
    "id": "xSBIEISGA6Id"
   },
   "outputs": [
    {
     "name": "stdout",
     "output_type": "stream",
     "text": [
      "63/63 [==============================] - 5s 76ms/step\n"
     ]
    },
    {
     "data": {
      "image/png": "[encoded data removed]",
      "text/plain": [
       "<Figure size 640x480 with 2 Axes>"
      ]
     },
     "metadata": {},
     "output_type": "display_data"
    }
   ],
   "source": [
    "from sklearn.metrics import confusion_matrix, ConfusionMatrixDisplay\n",
    "Y_pred_probs = model.predict(X_test_pad)\n",
    "Y_pred = np.argmax(Y_pred_probs, axis=1)\n",
    "cm = confusion_matrix(Y_test, Y_pred)\n",
    "disp = ConfusionMatrixDisplay(confusion_matrix=cm)\n",
    "disp.plot(cmap=plt.cm.Blues)\n",
    "\n",
    "plt.show()"
   ]
  },
  {
   "cell_type": "code",
   "execution_count": 54,
   "metadata": {
    "id": "GebauRAfChiq",
    "outputId": "b66eb181-8ce9-44ea-b7f7-88ffe6027a2c"
   },
   "outputs": [
    {
     "name": "stdout",
     "output_type": "stream",
     "text": [
      "              precision    recall  f1-score   support\n",
      "\n",
      "           0       0.97      0.93      0.95       695\n",
      "           1       0.92      0.93      0.92       275\n",
      "           2       0.81      0.89      0.85       159\n",
      "           3       0.97      0.97      0.97       581\n",
      "           4       0.87      0.93      0.90       224\n",
      "           5       0.84      0.73      0.78        66\n",
      "\n",
      "    accuracy                           0.93      2000\n",
      "   macro avg       0.90      0.90      0.89      2000\n",
      "weighted avg       0.93      0.93      0.93      2000\n",
      "\n"
     ]
    }
   ],
   "source": [
    "print(classification_report(Y_test,Y_pred))"
   ]
  },
  {
   "cell_type": "markdown",
   "metadata": {
    "id": "5SG8AtHq48uQ"
   },
   "source": [
    "# Creating a Function to check for Your own Sentence"
   ]
  },
  {
   "cell_type": "code",
   "execution_count": 55,
   "metadata": {
    "id": "N4vDT3Eeft2i"
   },
   "outputs": [],
   "source": [
    "def get_key(value):\n",
    "    dictionary={'joy':0,'anger':1,'love':2,'sadness':3,'fear':4,'surprise':5}\n",
    "    for key,val in dictionary.items():\n",
    "          if (val==value):\n",
    "            return key\n",
    "\n"
   ]
  },
  {
   "cell_type": "code",
   "execution_count": 59,
   "metadata": {
    "id": "AQuJATahalLP"
   },
   "outputs": [],
   "source": [
    "def predict(sentence):\n",
    "    # Convert the input sentence to a list\n",
    "    sentence_lst = [sentence]\n",
    "    \n",
    "    # Convert the sentence to a sequence\n",
    "    sentence_seq = tokenizer.texts_to_sequences(sentence_lst)\n",
    "    \n",
    "    # Pad the sequence\n",
    "    sentence_padded = pad_sequences(sentence_seq, maxlen=80, padding='post')\n",
    "    \n",
    "    # Get the prediction probabilities\n",
    "    prediction_probs = model.predict(sentence_padded)\n",
    "    \n",
    "    # Convert probabilities to class label\n",
    "    predicted_class = np.argmax(prediction_probs, axis=1)[0]\n",
    "    \n",
    "    # Get the emotion from the predicted class\n",
    "    ans = get_key(predicted_class)\n",
    "    \n",
    "    print(\"The emotion predicted is\", ans)\n",
    "\n",
    "# Example usage\n",
    "\n"
   ]
  },
  {
   "cell_type": "markdown",
   "metadata": {
    "id": "J1_JYp1N5CFm"
   },
   "source": [
    "# Check for Your Own Sentence"
   ]
  },
  {
   "cell_type": "code",
   "execution_count": 63,
   "metadata": {
    "id": "VcTTjsficgqf",
    "outputId": "3e5e5d52-08eb-4c7c-b092-22b437bfe787"
   },
   "outputs": [
    {
     "name": "stdout",
     "output_type": "stream",
     "text": [
      "1/1 [==============================] - 0s 56ms/step\n",
      "The emotion predicted is joy\n"
     ]
    }
   ],
   "source": [
    "predict(str(input('Enter a sentence : ')))\n"
   ]
  },
  {
   "cell_type": "code",
   "execution_count": 61,
   "metadata": {
    "id": "_hiYzFqN_h_-",
    "outputId": "3f96cb05-e759-48d8-eba8-94f7d1ed84b3"
   },
   "outputs": [
    {
     "name": "stdout",
     "output_type": "stream",
     "text": [
      "1/1 [==============================] - 0s 168ms/step\n",
      "The emotion predicted is joy\n"
     ]
    }
   ],
   "source": [
    "predict(str(input('Enter a sentence : ')))\n"
   ]
  },
  {
   "cell_type": "code",
   "execution_count": 62,
   "metadata": {},
   "outputs": [
    {
     "name": "stdout",
     "output_type": "stream",
     "text": [
      "1/1 [==============================] - 0s 38ms/step\n",
      "The emotion predicted is joy\n"
     ]
    }
   ],
   "source": [
    "predict(str(input('Enter a sentence : ')))\n"
   ]
  }
 ],
 "metadata": {
  "kernelspec": {
   "display_name": "Python 3 (ipykernel)",
   "language": "python",
   "name": "python3"
  },
  "language_info": {
   "codemirror_mode": {
    "name": "ipython",
    "version": 3
   },
   "file_extension": ".py",
   "mimetype": "text/x-python",
   "name": "python",
   "nbconvert_exporter": "python",
   "pygments_lexer": "ipython3",
   "version": "3.8.10"
  }
 },
 "nbformat": 4,
 "nbformat_minor": 4
}
